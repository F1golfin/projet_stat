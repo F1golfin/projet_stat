{
 "cells": [
  {
   "cell_type": "markdown",
   "id": "e1bd1830-316b-44bc-9bb6-0415be1a9f8c",
   "metadata": {},
   "source": [
    "# Hello"
   ]
  },
  {
   "cell_type": "code",
   "execution_count": 5,
   "id": "8f3eede1-ade0-44ac-839a-5aced04deb18",
   "metadata": {},
   "outputs": [],
   "source": [
    "import pandas as pd\n",
    "import numpy as np\n",
    "import matplotlib as mpl\n",
    "import matplotlib.pyplot as plt\n",
    "import seaborn as sns"
   ]
  },
  {
   "cell_type": "code",
   "execution_count": null,
   "id": "e660d6f6-5c60-4354-b158-4a43c411b8a2",
   "metadata": {},
   "outputs": [],
   "source": [
    "saumons = pd.read_csv(\"saumons.csv\", sep=',')"
   ]
  },
  {
   "cell_type": "code",
   "execution_count": 33,
   "id": "a2fb7a63-13da-462f-bf5e-d7a64f1d9e17",
   "metadata": {},
   "outputs": [
    {
     "name": "stdout",
     "output_type": "stream",
     "text": [
      "  District  District ID  Report order Region                   Method    Year  \\\n",
      "0    Tweed        101.0           1.0   East   Fixed Engine: Retained  1952.0   \n",
      "1    Tweed        101.0           1.0   East  Net and Coble: Retained  1952.0   \n",
      "2    Tweed        101.0           1.0   East   Fixed Engine: Retained  1952.0   \n",
      "3    Tweed        101.0           1.0   East  Net and Coble: Retained  1952.0   \n",
      "4    Tweed        101.0           1.0   East   Fixed Engine: Retained  1952.0   \n",
      "\n",
      "      Month  Month number  Wild MSW number  Wild MSW weight (kg)  ...  \\\n",
      "0  February           2.0            107.0                 400.5  ...   \n",
      "1  February           2.0           6606.0               24856.9  ...   \n",
      "2     March           3.0            185.0                 703.1  ...   \n",
      "3     March           3.0           7008.0               26151.9  ...   \n",
      "4     April           4.0            484.0                1912.3  ...   \n",
      "\n",
      "   Wild 1SW weight (kg)  Sea trout number  Sea trout weight (kg)  \\\n",
      "0                   0.0               0.0                    0.0   \n",
      "1                   0.0             453.0                  705.8   \n",
      "2                   0.0              13.0                   21.3   \n",
      "3                   0.5             848.0                 1172.5   \n",
      "4                   0.0              14.0                   20.0   \n",
      "\n",
      "   Finnock number  Finnock weight (kg)  Farmed MSW number  \\\n",
      "0             0.0                  0.0                0.0   \n",
      "1             0.0                  0.0                0.0   \n",
      "2             0.0                  0.0                0.0   \n",
      "3             0.0                  0.0                0.0   \n",
      "4             0.0                  0.0                0.0   \n",
      "\n",
      "   Farmed MSW weight (kg)  Farmed 1SW number  Farmed 1SW weight (kg)  \\\n",
      "0                     0.0                0.0                     0.0   \n",
      "1                     0.0                0.0                     0.0   \n",
      "2                     0.0                0.0                     0.0   \n",
      "3                     0.0                0.0                     0.0   \n",
      "4                     0.0                0.0                     0.0   \n",
      "\n",
      "   Netting effort  \n",
      "0             4.0  \n",
      "1            31.0  \n",
      "2            10.0  \n",
      "3            31.0  \n",
      "4            21.0  \n",
      "\n",
      "[5 rows x 21 columns]\n"
     ]
    }
   ],
   "source": [
    "# Vérifier les premières lignes du DataFrame\n",
    "print(saumons.head())\n"
   ]
  },
  {
   "cell_type": "code",
   "execution_count": 35,
   "id": "7a791f32-0e59-499c-a921-ead52cac9e03",
   "metadata": {},
   "outputs": [
    {
     "name": "stdout",
     "output_type": "stream",
     "text": [
      "Index(['District', 'District ID', 'Report order', 'Region', 'Method', 'Year',\n",
      "       'Month', 'Month number', 'Wild MSW number', 'Wild MSW weight (kg)',\n",
      "       'Wild 1SW number', 'Wild 1SW weight (kg)', 'Sea trout number',\n",
      "       'Sea trout weight (kg)', 'Finnock number', 'Finnock weight (kg)',\n",
      "       'Farmed MSW number', 'Farmed MSW weight (kg)', 'Farmed 1SW number',\n",
      "       'Farmed 1SW weight (kg)', 'Netting effort'],\n",
      "      dtype='object')\n"
     ]
    }
   ],
   "source": [
    "print(saumons.columns)\n"
   ]
  },
  {
   "cell_type": "code",
   "execution_count": 41,
   "id": "dd58aed1-95b7-438d-8cc2-583a27725f34",
   "metadata": {},
   "outputs": [],
   "source": [
    "#Etude de la variable quantitative continue : Farmed MSW weight (kg)"
   ]
  },
  {
   "cell_type": "code",
   "execution_count": 39,
   "id": "5041fcc3-edfb-46f8-8f2b-e66b0de185ce",
   "metadata": {},
   "outputs": [],
   "source": [
    "#Caclul de la moyenne "
   ]
  },
  {
   "cell_type": "code",
   "execution_count": 37,
   "id": "8d1176bf-019e-4c3e-b48f-48fc76e66a85",
   "metadata": {},
   "outputs": [
    {
     "name": "stdout",
     "output_type": "stream",
     "text": [
      "0.42519014693171997\n"
     ]
    }
   ],
   "source": [
    "moyenne = saumons[\"Farmed MSW weight (kg)\"].mean()\n",
    "print(moyenne)\n"
   ]
  },
  {
   "cell_type": "code",
   "execution_count": 43,
   "id": "98c883b1-e3dd-442b-9f01-23548278107b",
   "metadata": {},
   "outputs": [],
   "source": [
    "#Calcul de la médiane "
   ]
  },
  {
   "cell_type": "code",
   "execution_count": 51,
   "id": "0881a4e8-7483-4642-a7d3-c073c8cba13b",
   "metadata": {},
   "outputs": [
    {
     "name": "stdout",
     "output_type": "stream",
     "text": [
      "0.0\n"
     ]
    }
   ],
   "source": [
    "mediane = saumons[\"Farmed MSW weight (kg)\"].median()\n",
    "print(mediane)"
   ]
  },
  {
   "cell_type": "code",
   "execution_count": 53,
   "id": "6dc4e371-2723-4be1-a2ec-dd73f4e32148",
   "metadata": {},
   "outputs": [
    {
     "name": "stdout",
     "output_type": "stream",
     "text": [
      "0.0\n"
     ]
    }
   ],
   "source": [
    "mediane = saumons[\"Farmed 1SW weight (kg)\"].median()\n",
    "print(mediane)"
   ]
  },
  {
   "cell_type": "code",
   "execution_count": 57,
   "id": "317b8eb6-e3ae-4619-adae-58b7ff48477f",
   "metadata": {},
   "outputs": [
    {
     "name": "stdout",
     "output_type": "stream",
     "text": [
      "8.164855096819386\n"
     ]
    }
   ],
   "source": [
    "#Calcul de l'écart type\n",
    "ecarttype = saumons[\"Farmed MSW weight (kg)\"].std()\n",
    "print(ecarttype)"
   ]
  },
  {
   "cell_type": "code",
   "execution_count": 59,
   "id": "75c756ef-9dc8-4c3f-a0fb-51b3af27b29c",
   "metadata": {},
   "outputs": [],
   "source": [
    "#On remarque une dispersion importante autour de la moyenne"
   ]
  },
  {
   "cell_type": "code",
   "execution_count": 61,
   "id": "1ba88cab-365d-473f-aace-97a0a0a3c6d8",
   "metadata": {},
   "outputs": [],
   "source": [
    "#Caclul de la variance "
   ]
  },
  {
   "cell_type": "code",
   "execution_count": 63,
   "id": "7bb52047-659b-48df-a7c8-8a17359037b6",
   "metadata": {},
   "outputs": [
    {
     "name": "stdout",
     "output_type": "stream",
     "text": [
      "66.6648587520575\n"
     ]
    }
   ],
   "source": [
    "variance = saumons[\"Farmed MSW weight (kg)\"].var()\n",
    "print(variance)"
   ]
  },
  {
   "cell_type": "code",
   "execution_count": 65,
   "id": "de32efdd-a736-4dc3-857e-3e44d7c40a6c",
   "metadata": {},
   "outputs": [],
   "source": [
    "#Affichage du poids minimum et maximum"
   ]
  },
  {
   "cell_type": "code",
   "execution_count": 67,
   "id": "53f58f41-e0fe-42b0-a391-0dd3459f4dc6",
   "metadata": {},
   "outputs": [
    {
     "name": "stdout",
     "output_type": "stream",
     "text": [
      "0.0\n",
      "621.8\n"
     ]
    }
   ],
   "source": [
    "min = saumons[\"Farmed MSW weight (kg)\"].min()\n",
    "print(min)\n",
    "max = saumons[\"Farmed MSW weight (kg)\"].max()\n",
    "print(max)"
   ]
  },
  {
   "cell_type": "code",
   "execution_count": 69,
   "id": "edb9d94c-c9b3-4aa6-8a3d-c0a8fd2cec3a",
   "metadata": {},
   "outputs": [],
   "source": [
    "#Mesure du premier quartile "
   ]
  },
  {
   "cell_type": "code",
   "execution_count": 71,
   "id": "47f5d0b8-266d-4048-b3a9-3f04da93987c",
   "metadata": {},
   "outputs": [
    {
     "name": "stdout",
     "output_type": "stream",
     "text": [
      "0.0\n"
     ]
    }
   ],
   "source": [
    "quartile25 = saumons[\"Farmed MSW weight (kg)\"].quantile(0.25)\n",
    "print(quartile25)"
   ]
  },
  {
   "cell_type": "code",
   "execution_count": 73,
   "id": "2be7c17a-4d33-4f3e-ad21-55b0110040eb",
   "metadata": {},
   "outputs": [],
   "source": [
    "#Mesure du troisième quartile"
   ]
  },
  {
   "cell_type": "code",
   "execution_count": 75,
   "id": "ac457b1b-0df8-4c55-83a6-a3f3c0d1e1cd",
   "metadata": {},
   "outputs": [
    {
     "name": "stdout",
     "output_type": "stream",
     "text": [
      "0.0\n"
     ]
    }
   ],
   "source": [
    "quartile75 = saumons[\"Farmed MSW weight (kg)\"].quantile(0.75)\n",
    "print(quartile75)"
   ]
  },
  {
   "cell_type": "code",
   "execution_count": 77,
   "id": "2be53bbc-4693-4150-b13d-3359b6192e73",
   "metadata": {},
   "outputs": [],
   "source": [
    "#Mesure de l'écart interquartile "
   ]
  },
  {
   "cell_type": "code",
   "execution_count": 79,
   "id": "a26294ce-f3cd-44f6-8091-130c4ea000a5",
   "metadata": {},
   "outputs": [
    {
     "name": "stdout",
     "output_type": "stream",
     "text": [
      "0.0\n"
     ]
    }
   ],
   "source": [
    "Q1 = saumons[\"Farmed MSW weight (kg)\"].quantile(0.25)\n",
    "Q3 = saumons[\"Farmed MSW weight (kg)\"].quantile(0.75)\n",
    "IQR = Q3 - Q1\n",
    "print(IQR)\n"
   ]
  },
  {
   "cell_type": "code",
   "execution_count": 81,
   "id": "7dbf9f30-bb9f-47bb-a66b-c9df2ee91150",
   "metadata": {},
   "outputs": [],
   "source": [
    "#Affichage de l'histogramme \n"
   ]
  },
  {
   "cell_type": "code",
   "execution_count": 87,
   "id": "c4f8b5d2-0096-4ad6-8a17-35e445f8800e",
   "metadata": {},
   "outputs": [
    {
     "data": {
      "image/png": "[encoded data removed]",
      "text/plain": [
       "<Figure size 640x480 with 1 Axes>"
      ]
     },
     "metadata": {},
     "output_type": "display_data"
    }
   ],
   "source": [
    "\n",
    "\n",
    "# Créer l'histogramme à partir de la colonne 'valeurs'\n",
    "plt.hist(saumons['Farmed MSW weight (kg)'], bins=10, range=(0, 621), edgecolor='black')\n",
    "\n",
    "# Ajouter un titre et des labels\n",
    "plt.title('Histogramme des valeurs')\n",
    "plt.xlabel('Valeurs')\n",
    "plt.ylabel('Fréquence')\n",
    "\n",
    "# Afficher l'histogramme\n",
    "plt.show()\n"
   ]
  },
  {
   "cell_type": "code",
   "execution_count": null,
   "id": "de67582b-58b4-4047-b3c2-7c90894f2128",
   "metadata": {},
   "outputs": [],
   "source": []
  }
 ],
 "metadata": {
  "kernelspec": {
   "display_name": "Python [conda env:base] *",
   "language": "python",
   "name": "conda-base-py"
  },
  "language_info": {
   "codemirror_mode": {
    "name": "ipython",
    "version": 3
   },
   "file_extension": ".py",
   "mimetype": "text/x-python",
   "name": "python",
   "nbconvert_exporter": "python",
   "pygments_lexer": "ipython3",
   "version": "3.12.7"
  }
 },
 "nbformat": 4,
 "nbformat_minor": 5
}
